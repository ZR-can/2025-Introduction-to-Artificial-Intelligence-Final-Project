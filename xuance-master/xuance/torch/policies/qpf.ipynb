{
 "cells": [
  {
   "cell_type": "code",
   "execution_count": 2,
   "id": "a7cfb711",
   "metadata": {},
   "outputs": [],
   "source": [
    "from xuance.torch.policies import *\n",
    "from xuance.torch.utils import *\n",
    "from gymnasium import spaces as spaces_pettingzoo\n",
    "import torch.nn as nn"
   ]
  },
  {
   "cell_type": "code",
   "execution_count": 5,
   "id": "364681e1",
   "metadata": {},
   "outputs": [
    {
     "ename": "AttributeError",
     "evalue": "'Tensor' object has no attribute 'output_shapes'",
     "output_type": "error",
     "traceback": [
      "\u001b[1;31m---------------------------------------------------------------------------\u001b[0m",
      "\u001b[1;31mAttributeError\u001b[0m                            Traceback (most recent call last)",
      "\u001b[1;32m~\\AppData\\Local\\Temp\\ipykernel_24880\\1228677769.py\u001b[0m in \u001b[0;36m<module>\u001b[1;34m\u001b[0m\n\u001b[0;32m     18\u001b[0m \u001b[1;33m\u001b[0m\u001b[0m\n\u001b[0;32m     19\u001b[0m \u001b[0moutput\u001b[0m \u001b[1;33m=\u001b[0m \u001b[0mmynetword\u001b[0m\u001b[1;33m.\u001b[0m\u001b[0mforward\u001b[0m\u001b[1;33m(\u001b[0m\u001b[0mx\u001b[0m\u001b[1;33m)\u001b[0m\u001b[1;33m\u001b[0m\u001b[1;33m\u001b[0m\u001b[0m\n\u001b[1;32m---> 20\u001b[1;33m \u001b[0minfo\u001b[0m \u001b[1;33m=\u001b[0m \u001b[0moutput\u001b[0m\u001b[1;33m.\u001b[0m\u001b[0moutput_shapes\u001b[0m\u001b[1;33m\u001b[0m\u001b[1;33m\u001b[0m\u001b[0m\n\u001b[0m\u001b[0;32m     21\u001b[0m \u001b[0mprint\u001b[0m\u001b[1;33m(\u001b[0m\u001b[0minfo\u001b[0m\u001b[1;33m)\u001b[0m\u001b[1;33m\u001b[0m\u001b[1;33m\u001b[0m\u001b[0m\n\u001b[0;32m     22\u001b[0m \u001b[1;33m\u001b[0m\u001b[0m\n",
      "\u001b[1;31mAttributeError\u001b[0m: 'Tensor' object has no attribute 'output_shapes'"
     ]
    }
   ],
   "source": [
    "a =  nn.Module\n",
    "class Mynetwork(nn.Module):\n",
    "    def __init__(self,input_size , hidden_size , num_layers):\n",
    "        super(Mynetwork,self).__init__()\n",
    "        self.lstm = nn.LSTM(input_size,hidden_size,num_layers)\n",
    "\n",
    "    def forward(self,x):\n",
    "        out,_ = self.lstm(x)\n",
    "        return out\n",
    "\n",
    "mynetword  = Mynetwork\n",
    "mynetword  = mynetword(input_size=10,hidden_size=64,num_layers=2)\n",
    "# info = mynetword.output_shapes\n",
    "\n",
    "x = torch.Tensor([[1,3,5,6,7,1,3,6,4,6],\n",
    "     [1,3,4,5,1,4,3,4,5,9],\n",
    "     [3,8,9,3,4,6,7,8,9,2]])\n",
    "\n",
    "output = mynetword.forward(x)\n",
    "info = output.output_shapes\n",
    "print(info)\n",
    "    \n",
    "    \n",
    "# print(mynetword)"
   ]
  },
  {
   "cell_type": "code",
   "execution_count": null,
   "id": "d252feab",
   "metadata": {},
   "outputs": [],
   "source": []
  }
 ],
 "metadata": {
  "kernelspec": {
   "display_name": "Python 3 (ipykernel)",
   "language": "python",
   "name": "python3"
  },
  "language_info": {
   "codemirror_mode": {
    "name": "ipython",
    "version": 3
   },
   "file_extension": ".py",
   "mimetype": "text/x-python",
   "name": "python",
   "nbconvert_exporter": "python",
   "pygments_lexer": "ipython3",
   "version": "3.7.12"
  }
 },
 "nbformat": 4,
 "nbformat_minor": 5
}
