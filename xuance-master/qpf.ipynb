{
 "cells": [
  {
   "cell_type": "code",
   "execution_count": 5,
   "id": "07662685",
   "metadata": {},
   "outputs": [],
   "source": [
    "from xuance.torch.policies import *\n",
    "from xuance.torch.utils import *\n",
    "from gymnasium import spaces as spaces_pettingzoo\n",
    "from pettingzoo.mpe.simple_tag import simple_tag\n",
    "import gym"
   ]
  },
  {
   "cell_type": "code",
   "execution_count": 25,
   "id": "583f33d1",
   "metadata": {},
   "outputs": [
    {
     "name": "stdout",
     "output_type": "stream",
     "text": [
      "{'adversary_0': Box(-inf, inf, (16,), float32), 'adversary_1': Box(-inf, inf, (16,), float32), 'adversary_2': Box(-inf, inf, (16,), float32), 'agent_0': Box(-inf, inf, (14,), float32)}\n",
      "{'adversary_0': Discrete(5), 'adversary_1': Discrete(5), 'adversary_2': Discrete(5), 'agent_0': Discrete(5)}\n",
      "4\n",
      "4\n"
     ]
    },
    {
     "name": "stderr",
     "output_type": "stream",
     "text": [
      "e:\\Anaconda3\\envs\\xuance_env\\lib\\site-packages\\pettingzoo\\utils\\wrappers\\base.py:59: UserWarning: The `observation_spaces` dictionary is deprecated. Use the `observation_space` function instead.\n",
      "  \"The `observation_spaces` dictionary is deprecated. Use the `observation_space` function instead.\"\n",
      "e:\\Anaconda3\\envs\\xuance_env\\lib\\site-packages\\pettingzoo\\utils\\wrappers\\base.py:73: UserWarning: The `action_spaces` dictionary is deprecated. Use the `action_space` function instead.\n",
      "  \"The `action_spaces` dictionary is deprecated. Use the `action_space` function instead.\"\n"
     ]
    },
    {
     "ename": "TypeError",
     "evalue": "'method' object is not subscriptable",
     "output_type": "error",
     "traceback": [
      "\u001b[1;31m---------------------------------------------------------------------------\u001b[0m",
      "\u001b[1;31mTypeError\u001b[0m                                 Traceback (most recent call last)",
      "\u001b[1;32m~\\AppData\\Local\\Temp\\ipykernel_1096\\2043227710.py\u001b[0m in \u001b[0;36m<module>\u001b[1;34m\u001b[0m\n\u001b[0;32m      8\u001b[0m \u001b[0mprint\u001b[0m\u001b[1;33m(\u001b[0m\u001b[0menv\u001b[0m\u001b[1;33m.\u001b[0m\u001b[0mnum_agents\u001b[0m\u001b[1;33m)\u001b[0m\u001b[1;33m\u001b[0m\u001b[1;33m\u001b[0m\u001b[0m\n\u001b[0;32m      9\u001b[0m \u001b[0mprint\u001b[0m\u001b[1;33m(\u001b[0m\u001b[0menv\u001b[0m\u001b[1;33m.\u001b[0m\u001b[0mmax_num_agents\u001b[0m\u001b[1;33m)\u001b[0m\u001b[1;33m\u001b[0m\u001b[1;33m\u001b[0m\u001b[0m\n\u001b[1;32m---> 10\u001b[1;33m \u001b[0mprint\u001b[0m\u001b[1;33m(\u001b[0m\u001b[0menv\u001b[0m\u001b[1;33m.\u001b[0m\u001b[0mstate_space\u001b[0m\u001b[1;33m.\u001b[0m\u001b[0msample\u001b[0m\u001b[1;33m[\u001b[0m\u001b[1;36m0\u001b[0m\u001b[1;33m]\u001b[0m\u001b[1;33m)\u001b[0m\u001b[1;33m\u001b[0m\u001b[1;33m\u001b[0m\u001b[0m\n\u001b[0m\u001b[0;32m     11\u001b[0m \u001b[1;31m# env.render(render_mode = \"rgb_array\")\u001b[0m\u001b[1;33m\u001b[0m\u001b[1;33m\u001b[0m\u001b[1;33m\u001b[0m\u001b[0m\n\u001b[0;32m     12\u001b[0m \u001b[1;31m#print(env.agent.state.p_pos)\u001b[0m\u001b[1;33m\u001b[0m\u001b[1;33m\u001b[0m\u001b[1;33m\u001b[0m\u001b[0m\n",
      "\u001b[1;31mTypeError\u001b[0m: 'method' object is not subscriptable"
     ]
    }
   ],
   "source": [
    "# env = gym.make(id=)\n",
    "# print(env)\n",
    "# env.Scenario.reset_world\n",
    "env = simple_tag.env()\n",
    "env.reset()\n",
    "print(env.observation_spaces)\n",
    "print(env.action_spaces)\n",
    "print(env.num_agents)\n",
    "print(env.max_num_agents)\n",
    "print(env.state_space.sample)\n",
    "# env.render(render_mode = \"rgb_array\")\n",
    "#print(env.agent.state.p_pos)\n",
    "#print(env.agents.)\n",
    "\n",
    "\n",
    "class PF():\n",
    "    def __init__(self,obs,agents,ksi,eta):\n",
    "        self.obs = spaces_pettingzoo.Space.sample()\n",
    "    #def Us"
   ]
  },
  {
   "cell_type": "code",
   "execution_count": 4,
   "id": "8ecec9a9",
   "metadata": {},
   "outputs": [],
   "source": [
    "class PFBCriticNet(nn.Module):\n",
    "    def __init__(self,\n",
    "                 independent: bool,\n",
    "                 state_dim: int,\n",
    "                 n_agents: int,\n",
    "                 action_dim: int,\n",
    "                 hidden_sizes: Sequence[int],\n",
    "                 normalize: Optional[ModuleType] = None,\n",
    "                 initialize: Optional[Callable[..., torch.Tensor]] = None,\n",
    "                 activation: Optional[ModuleType] = None,\n",
    "                 device: Optional[Union[str, int, torch.device]] = None\n",
    "                 ):\n",
    "        super(CriticNet, self).__init__()\n",
    "        layers = []\n",
    "        if independent:\n",
    "            input_shape = (state_dim + action_dim + n_agents,)\n",
    "        else:\n",
    "            input_shape = (state_dim * n_agents + action_dim * n_agents + n_agents,)\n",
    "        for h in hidden_sizes:\n",
    "            mlp, input_shape = mlp_block(input_shape[0], h, normalize, activation, initialize, device)\n",
    "            layers.extend(mlp)\n",
    "        layers.extend(mlp_block(input_shape[0], 1, None, None, initialize, device)[0])\n",
    "        self.model = nn.Sequential(*layers)\n",
    "\n",
    "    def forward(self, x: torch.tensor):\n",
    "        return self.model(x)\n",
    "\n"
   ]
  }
 ],
 "metadata": {
  "kernelspec": {
   "display_name": "xuance_env",
   "language": "python",
   "name": "python3"
  },
  "language_info": {
   "codemirror_mode": {
    "name": "ipython",
    "version": 3
   },
   "file_extension": ".py",
   "mimetype": "text/x-python",
   "name": "python",
   "nbconvert_exporter": "python",
   "pygments_lexer": "ipython3",
   "version": "3.7.12"
  }
 },
 "nbformat": 4,
 "nbformat_minor": 5
}
